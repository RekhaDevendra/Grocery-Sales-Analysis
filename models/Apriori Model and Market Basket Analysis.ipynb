{
 "cells": [
  {
   "cell_type": "markdown",
   "id": "fa2f4f23",
   "metadata": {},
   "source": [
    "## Market Basket Analysis "
   ]
  },
  {
   "cell_type": "markdown",
   "id": "0dd07bf4",
   "metadata": {},
   "source": [
    "### Packages Importing"
   ]
  },
  {
   "cell_type": "code",
   "execution_count": 1,
   "id": "09c1c3cb",
   "metadata": {},
   "outputs": [],
   "source": [
    "#External package need to install\n",
    "# !pip install apyori"
   ]
  },
  {
   "cell_type": "code",
   "execution_count": 2,
   "id": "783cc477",
   "metadata": {},
   "outputs": [],
   "source": [
    "import pandas as pd\n",
    "from apyori import apriori"
   ]
  },
  {
   "cell_type": "markdown",
   "id": "fd18ed6a",
   "metadata": {},
   "source": [
    "### Data Loading "
   ]
  },
  {
   "cell_type": "code",
   "execution_count": 3,
   "id": "02ab4bbb",
   "metadata": {},
   "outputs": [],
   "source": [
    "df = pd.read_csv(\"E:/Data Analytics Projects/Grocery Bill Analysis/data/Market_Basket_Optimisation.csv\", header=None)"
   ]
  },
  {
   "cell_type": "code",
   "execution_count": 4,
   "id": "3642a97b",
   "metadata": {},
   "outputs": [
    {
     "data": {
      "text/html": [
       "<div>\n",
       "<style scoped>\n",
       "    .dataframe tbody tr th:only-of-type {\n",
       "        vertical-align: middle;\n",
       "    }\n",
       "\n",
       "    .dataframe tbody tr th {\n",
       "        vertical-align: top;\n",
       "    }\n",
       "\n",
       "    .dataframe thead th {\n",
       "        text-align: right;\n",
       "    }\n",
       "</style>\n",
       "<table border=\"1\" class=\"dataframe\">\n",
       "  <thead>\n",
       "    <tr style=\"text-align: right;\">\n",
       "      <th></th>\n",
       "      <th>0</th>\n",
       "      <th>1</th>\n",
       "      <th>2</th>\n",
       "      <th>3</th>\n",
       "      <th>4</th>\n",
       "      <th>5</th>\n",
       "      <th>6</th>\n",
       "      <th>7</th>\n",
       "      <th>8</th>\n",
       "      <th>9</th>\n",
       "      <th>10</th>\n",
       "      <th>11</th>\n",
       "      <th>12</th>\n",
       "      <th>13</th>\n",
       "      <th>14</th>\n",
       "      <th>15</th>\n",
       "      <th>16</th>\n",
       "      <th>17</th>\n",
       "      <th>18</th>\n",
       "      <th>19</th>\n",
       "    </tr>\n",
       "  </thead>\n",
       "  <tbody>\n",
       "    <tr>\n",
       "      <th>0</th>\n",
       "      <td>shrimp</td>\n",
       "      <td>almonds</td>\n",
       "      <td>avocado</td>\n",
       "      <td>vegetables mix</td>\n",
       "      <td>green grapes</td>\n",
       "      <td>whole weat flour</td>\n",
       "      <td>yams</td>\n",
       "      <td>cottage cheese</td>\n",
       "      <td>energy drink</td>\n",
       "      <td>tomato juice</td>\n",
       "      <td>low fat yogurt</td>\n",
       "      <td>green tea</td>\n",
       "      <td>honey</td>\n",
       "      <td>salad</td>\n",
       "      <td>mineral water</td>\n",
       "      <td>salmon</td>\n",
       "      <td>antioxydant juice</td>\n",
       "      <td>frozen smoothie</td>\n",
       "      <td>spinach</td>\n",
       "      <td>olive oil</td>\n",
       "    </tr>\n",
       "    <tr>\n",
       "      <th>1</th>\n",
       "      <td>burgers</td>\n",
       "      <td>meatballs</td>\n",
       "      <td>eggs</td>\n",
       "      <td>NaN</td>\n",
       "      <td>NaN</td>\n",
       "      <td>NaN</td>\n",
       "      <td>NaN</td>\n",
       "      <td>NaN</td>\n",
       "      <td>NaN</td>\n",
       "      <td>NaN</td>\n",
       "      <td>NaN</td>\n",
       "      <td>NaN</td>\n",
       "      <td>NaN</td>\n",
       "      <td>NaN</td>\n",
       "      <td>NaN</td>\n",
       "      <td>NaN</td>\n",
       "      <td>NaN</td>\n",
       "      <td>NaN</td>\n",
       "      <td>NaN</td>\n",
       "      <td>NaN</td>\n",
       "    </tr>\n",
       "    <tr>\n",
       "      <th>2</th>\n",
       "      <td>chutney</td>\n",
       "      <td>NaN</td>\n",
       "      <td>NaN</td>\n",
       "      <td>NaN</td>\n",
       "      <td>NaN</td>\n",
       "      <td>NaN</td>\n",
       "      <td>NaN</td>\n",
       "      <td>NaN</td>\n",
       "      <td>NaN</td>\n",
       "      <td>NaN</td>\n",
       "      <td>NaN</td>\n",
       "      <td>NaN</td>\n",
       "      <td>NaN</td>\n",
       "      <td>NaN</td>\n",
       "      <td>NaN</td>\n",
       "      <td>NaN</td>\n",
       "      <td>NaN</td>\n",
       "      <td>NaN</td>\n",
       "      <td>NaN</td>\n",
       "      <td>NaN</td>\n",
       "    </tr>\n",
       "    <tr>\n",
       "      <th>3</th>\n",
       "      <td>turkey</td>\n",
       "      <td>avocado</td>\n",
       "      <td>NaN</td>\n",
       "      <td>NaN</td>\n",
       "      <td>NaN</td>\n",
       "      <td>NaN</td>\n",
       "      <td>NaN</td>\n",
       "      <td>NaN</td>\n",
       "      <td>NaN</td>\n",
       "      <td>NaN</td>\n",
       "      <td>NaN</td>\n",
       "      <td>NaN</td>\n",
       "      <td>NaN</td>\n",
       "      <td>NaN</td>\n",
       "      <td>NaN</td>\n",
       "      <td>NaN</td>\n",
       "      <td>NaN</td>\n",
       "      <td>NaN</td>\n",
       "      <td>NaN</td>\n",
       "      <td>NaN</td>\n",
       "    </tr>\n",
       "    <tr>\n",
       "      <th>4</th>\n",
       "      <td>mineral water</td>\n",
       "      <td>milk</td>\n",
       "      <td>energy bar</td>\n",
       "      <td>whole wheat rice</td>\n",
       "      <td>green tea</td>\n",
       "      <td>NaN</td>\n",
       "      <td>NaN</td>\n",
       "      <td>NaN</td>\n",
       "      <td>NaN</td>\n",
       "      <td>NaN</td>\n",
       "      <td>NaN</td>\n",
       "      <td>NaN</td>\n",
       "      <td>NaN</td>\n",
       "      <td>NaN</td>\n",
       "      <td>NaN</td>\n",
       "      <td>NaN</td>\n",
       "      <td>NaN</td>\n",
       "      <td>NaN</td>\n",
       "      <td>NaN</td>\n",
       "      <td>NaN</td>\n",
       "    </tr>\n",
       "  </tbody>\n",
       "</table>\n",
       "</div>"
      ],
      "text/plain": [
       "              0          1           2                 3             4   \\\n",
       "0         shrimp    almonds     avocado    vegetables mix  green grapes   \n",
       "1        burgers  meatballs        eggs               NaN           NaN   \n",
       "2        chutney        NaN         NaN               NaN           NaN   \n",
       "3         turkey    avocado         NaN               NaN           NaN   \n",
       "4  mineral water       milk  energy bar  whole wheat rice     green tea   \n",
       "\n",
       "                 5     6               7             8             9   \\\n",
       "0  whole weat flour  yams  cottage cheese  energy drink  tomato juice   \n",
       "1               NaN   NaN             NaN           NaN           NaN   \n",
       "2               NaN   NaN             NaN           NaN           NaN   \n",
       "3               NaN   NaN             NaN           NaN           NaN   \n",
       "4               NaN   NaN             NaN           NaN           NaN   \n",
       "\n",
       "               10         11     12     13             14      15  \\\n",
       "0  low fat yogurt  green tea  honey  salad  mineral water  salmon   \n",
       "1             NaN        NaN    NaN    NaN            NaN     NaN   \n",
       "2             NaN        NaN    NaN    NaN            NaN     NaN   \n",
       "3             NaN        NaN    NaN    NaN            NaN     NaN   \n",
       "4             NaN        NaN    NaN    NaN            NaN     NaN   \n",
       "\n",
       "                  16               17       18         19  \n",
       "0  antioxydant juice  frozen smoothie  spinach  olive oil  \n",
       "1                NaN              NaN      NaN        NaN  \n",
       "2                NaN              NaN      NaN        NaN  \n",
       "3                NaN              NaN      NaN        NaN  \n",
       "4                NaN              NaN      NaN        NaN  "
      ]
     },
     "execution_count": 4,
     "metadata": {},
     "output_type": "execute_result"
    }
   ],
   "source": [
    "df.head()"
   ]
  },
  {
   "cell_type": "markdown",
   "id": "c862ea80",
   "metadata": {},
   "source": [
    "### Data Cleaning "
   ]
  },
  {
   "cell_type": "code",
   "execution_count": 5,
   "id": "b8b8a510",
   "metadata": {},
   "outputs": [],
   "source": [
    "# replacing empty value with 0.\n",
    "df.fillna(0,inplace=True)"
   ]
  },
  {
   "cell_type": "markdown",
   "id": "538f8a74",
   "metadata": {},
   "source": [
    "### Data Pre-processing "
   ]
  },
  {
   "cell_type": "code",
   "execution_count": null,
   "id": "14dcc80c",
   "metadata": {},
   "outputs": [],
   "source": [
    "# for using aprori , need to convert data in list format..\n",
    "# transaction = [['apple','almonds'],['apple'],['banana','apple']]....\n",
    "\n",
    "transactions = []\n",
    "\n",
    "for i in range(0,len(df)):\n",
    "    transactions.append([str(df.values[i,j]) for j in range(0,20) if str(df.values[i,j])!='0'])"
   ]
  },
  {
   "cell_type": "code",
   "execution_count": null,
   "id": "0cb45817",
   "metadata": {},
   "outputs": [],
   "source": [
    "## verifying - by printing the 0th transaction\n",
    "transactions[0]"
   ]
  },
  {
   "cell_type": "code",
   "execution_count": null,
   "id": "652c269c",
   "metadata": {},
   "outputs": [],
   "source": [
    "## verifying - by printing the 1st transaction\n",
    "transactions[1]"
   ]
  },
  {
   "cell_type": "markdown",
   "id": "a1459bd6",
   "metadata": {},
   "source": [
    "### Apriori Model "
   ]
  },
  {
   "cell_type": "code",
   "execution_count": null,
   "id": "4627d37a",
   "metadata": {},
   "outputs": [],
   "source": [
    "# Call apriori function which requires minimum support, confidance and lift, min length is combination of item default is 2\".\n",
    "rules = apriori(transactions, min_support=0.003, min_confidance=0.2, min_lift=3, min_length=2)\n",
    "\n",
    "## min_support = 0.003 -> means selecting items with min support of 0.3%\n",
    "## min_confidance = 0.2 -> means min confidance of 20% \n",
    "## min_lift = 3  \n",
    "## min_length = 2 -> means no. of items in the transaction should be 2"
   ]
  },
  {
   "cell_type": "code",
   "execution_count": null,
   "id": "ff1c7e5e",
   "metadata": {},
   "outputs": [],
   "source": [
    "#it generates a set of rules in a generator file...\n",
    "rules"
   ]
  },
  {
   "cell_type": "code",
   "execution_count": null,
   "id": "54393998",
   "metadata": {},
   "outputs": [],
   "source": [
    "# all rules need to be converted in a list..\n",
    "Results = list(rules)\n",
    "Results"
   ]
  },
  {
   "cell_type": "code",
   "execution_count": null,
   "id": "aa5401b6",
   "metadata": {},
   "outputs": [],
   "source": [
    "# convert result in a dataframe for further operation...\n",
    "df_results = pd.DataFrame(Results)"
   ]
  },
  {
   "cell_type": "code",
   "execution_count": null,
   "id": "998b5a74",
   "metadata": {},
   "outputs": [],
   "source": [
    "# as we see \"order_statistics\" , is itself a list so need to be converted in proper format..\n",
    "df_results.head()"
   ]
  },
  {
   "cell_type": "code",
   "execution_count": null,
   "id": "389932e9",
   "metadata": {},
   "outputs": [],
   "source": [
    "# keep support in a separate data frame so we can use later.. \n",
    "support = df_results.support"
   ]
  },
  {
   "cell_type": "code",
   "execution_count": null,
   "id": "d53b0e66",
   "metadata": {},
   "outputs": [],
   "source": [
    "'''\n",
    "convert orderstatistic in a proper format.\n",
    "order statistic has lhs => rhs as well rhs => lhs \n",
    "we can choose any one for convience.\n",
    "Let's choose first one which is 'df_results['ordered_statistics'][i][0]'\n",
    "''' \n",
    "\n",
    "#all four empty list which will contain lhs, rhs, confidance and lift respectively.\n",
    "first_values = []\n",
    "second_values = []\n",
    "third_values = []\n",
    "fourth_value = []\n",
    "\n",
    "# loop number of rows time and append 1 by 1 value in a separate list.. \n",
    "# first and second element was frozenset which need to be converted in list..\n",
    "for i in range(df_results.shape[0]):\n",
    "    single_list = df_results['ordered_statistics'][i][0]\n",
    "    first_values.append(list(single_list[0]))\n",
    "    second_values.append(list(single_list[1]))\n",
    "    third_values.append(single_list[2])\n",
    "    fourth_value.append(single_list[3])"
   ]
  },
  {
   "cell_type": "code",
   "execution_count": null,
   "id": "45b077f8",
   "metadata": {},
   "outputs": [],
   "source": [
    "# convert all four list into dataframe for further operation..\n",
    "lhs = pd.DataFrame(first_values)\n",
    "rhs = pd.DataFrame(second_values)\n",
    "\n",
    "confidence=pd.DataFrame(third_values,columns=['Confidence'])\n",
    "\n",
    "lift=pd.DataFrame(fourth_value,columns=['lift'])"
   ]
  },
  {
   "cell_type": "code",
   "execution_count": null,
   "id": "c9646650",
   "metadata": {},
   "outputs": [],
   "source": [
    "# concat all list together in a single dataframe\n",
    "df_final = pd.concat([lhs,rhs,support,confidence,lift], axis=1)\n",
    "df_final"
   ]
  },
  {
   "cell_type": "code",
   "execution_count": null,
   "id": "8230eca8",
   "metadata": {},
   "outputs": [],
   "source": [
    "'''\n",
    " we have some of place only 1 item in lhs and some place 3 or more so we need to a proper represenation for User to understand. \n",
    " replacing none with ' ' and combining three column's in 1 \n",
    " example : coffee,none,none is converted to coffee, ,\n",
    "'''\n",
    "df_final.fillna(value=' ', inplace=True)\n",
    "df_final.head()"
   ]
  },
  {
   "cell_type": "code",
   "execution_count": null,
   "id": "0e92628c",
   "metadata": {},
   "outputs": [],
   "source": [
    "#set column name\n",
    "df_final.columns = ['lhs',1,'rhs',2,3,'support','confidence','lift']\n",
    "df_final.head()"
   ]
  },
  {
   "cell_type": "code",
   "execution_count": null,
   "id": "7b8f1259",
   "metadata": {},
   "outputs": [],
   "source": [
    "# add all three column to lhs itemset only\n",
    "df_final['lhs'] = df_final['lhs'] + str(\", \") + df_final[1]\n",
    "\n",
    "df_final['rhs'] = df_final['rhs']+str(\", \")+df_final[2] + str(\", \") + df_final[3]"
   ]
  },
  {
   "cell_type": "code",
   "execution_count": null,
   "id": "7e5995ad",
   "metadata": {},
   "outputs": [],
   "source": [
    "df_final.head()"
   ]
  },
  {
   "cell_type": "code",
   "execution_count": null,
   "id": "4a1e35d3",
   "metadata": {},
   "outputs": [],
   "source": [
    "#drop columns 1,2 and 3 because now we already appended to lhs column.\n",
    "df_final.drop(columns=[1,2,3],inplace=True)"
   ]
  },
  {
   "cell_type": "code",
   "execution_count": null,
   "id": "3300bf4e",
   "metadata": {},
   "outputs": [],
   "source": [
    "#this is final output. You can sort based on the support lift and confidance..\n",
    "df_final.head()"
   ]
  },
  {
   "cell_type": "code",
   "execution_count": null,
   "id": "e9c32ae7",
   "metadata": {},
   "outputs": [],
   "source": [
    "df_final.sort_values('lift', ascending=False).head(10)"
   ]
  },
  {
   "cell_type": "code",
   "execution_count": null,
   "id": "89217494",
   "metadata": {},
   "outputs": [],
   "source": [
    "## Showing top 10 items, based on lift.  Sorting in desc order\n",
    "df_lift = df_final.sort_values('lift', ascending=False).head(10)\n",
    "df_support = df_final.sort_values('support', ascending=False).head(10)\n",
    "df_confidence = df_final.sort_values('confidence', ascending=False).head(10)"
   ]
  },
  {
   "cell_type": "code",
   "execution_count": null,
   "id": "bb94e232",
   "metadata": {},
   "outputs": [],
   "source": [
    "df_final.sort_values('lift', ascending=False).tail(10)"
   ]
  },
  {
   "cell_type": "code",
   "execution_count": null,
   "id": "108cd31d",
   "metadata": {},
   "outputs": [],
   "source": [
    "# df_final = pd.DataFrame(data)\n",
    "\n",
    "import matplotlib.pyplot as plt\n",
    "\n",
    "# Plotting the top 10 items based on lift\n",
    "\n",
    "# Bar plot for lift values\n",
    "plt.figure(figsize=(10, 6))\n",
    "plt.barh(df_lift['lhs'] + df_lift['rhs'], df_lift['lift'], color='skyblue')\n",
    "plt.xlabel('Lift')\n",
    "plt.ylabel('Itemsets')\n",
    "plt.title('Top 10 Itemsets Based on Lift')\n",
    "plt.gca().invert_yaxis()  # Invert y-axis to have the highest lift on top\n",
    "plt.show()\n",
    "\n",
    "# Bar plot for support values\n",
    "plt.figure(figsize=(10, 6))\n",
    "plt.barh(df_support['lhs'] + df_support['rhs'], df_support['support'], color='lightgreen')\n",
    "plt.xlabel('Support')\n",
    "plt.ylabel('Itemsets')\n",
    "plt.title('Top 10 Itemsets Based on Support')\n",
    "plt.gca().invert_yaxis()  # Invert y-axis to have the highest support on top\n",
    "plt.show()\n",
    "\n",
    "# Bar plot for confidence values\n",
    "plt.figure(figsize=(10, 6))\n",
    "plt.barh(df_confidence['lhs'] + df_confidence['rhs'], df_confidence['confidence'], color='salmon')\n",
    "plt.xlabel('Confidence')\n",
    "plt.ylabel('Itemsets')\n",
    "plt.title('Top 10 Itemsets Based on Confidence')\n",
    "plt.gca().invert_yaxis()  # Invert y-axis to have the highest confidence on top\n",
    "plt.show()"
   ]
  },
  {
   "cell_type": "code",
   "execution_count": null,
   "id": "f27052df",
   "metadata": {},
   "outputs": [],
   "source": []
  }
 ],
 "metadata": {
  "kernelspec": {
   "display_name": "Python 3 (ipykernel)",
   "language": "python",
   "name": "python3"
  },
  "language_info": {
   "codemirror_mode": {
    "name": "ipython",
    "version": 3
   },
   "file_extension": ".py",
   "mimetype": "text/x-python",
   "name": "python",
   "nbconvert_exporter": "python",
   "pygments_lexer": "ipython3",
   "version": "3.11.5"
  }
 },
 "nbformat": 4,
 "nbformat_minor": 5
}
