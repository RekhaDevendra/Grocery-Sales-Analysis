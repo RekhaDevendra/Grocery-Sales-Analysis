{
 "cells": [
  {
   "cell_type": "code",
   "execution_count": 1,
   "id": "f9904af3",
   "metadata": {},
   "outputs": [],
   "source": [
    "### Packages Importing"
   ]
  },
  {
   "cell_type": "code",
   "execution_count": 2,
   "id": "be6e7dc6",
   "metadata": {},
   "outputs": [
    {
     "name": "stdout",
     "output_type": "stream",
     "text": [
      "Collecting package metadata (current_repodata.json): ...working... done\n",
      "Solving environment: ...working... done\n",
      "\n",
      "# All requested packages already installed.\n",
      "\n",
      "\n",
      "Note: you may need to restart the kernel to use updated packages.\n"
     ]
    },
    {
     "name": "stderr",
     "output_type": "stream",
     "text": [
      "\n",
      "\n",
      "==> WARNING: A newer version of conda exists. <==\n",
      "  current version: 23.7.4\n",
      "  latest version: 24.9.2\n",
      "\n",
      "Please update conda by running\n",
      "\n",
      "    $ conda update -n base -c defaults conda\n",
      "\n",
      "Or to minimize the number of packages updated during conda update use\n",
      "\n",
      "     conda install conda=24.9.2\n",
      "\n",
      "\n"
     ]
    }
   ],
   "source": [
    "conda install graphviz"
   ]
  },
  {
   "cell_type": "code",
   "execution_count": 3,
   "id": "083abf9c",
   "metadata": {},
   "outputs": [
    {
     "name": "stdout",
     "output_type": "stream",
     "text": [
      "Requirement already satisfied: graphviz in c:\\users\\rekha\\anaconda3\\lib\\site-packages (0.20.3)\n",
      "Note: you may need to restart the kernel to use updated packages.\n"
     ]
    }
   ],
   "source": [
    "pip install graphviz"
   ]
  },
  {
   "cell_type": "code",
   "execution_count": 4,
   "id": "e5bc5200",
   "metadata": {},
   "outputs": [],
   "source": [
    "import pandas as pd\n",
    "from sklearn.model_selection import train_test_split\n",
    "from sklearn.tree import DecisionTreeClassifier as dd\n",
    "from sklearn.metrics import accuracy_score, classification_report, confusion_matrix\n",
    "from sklearn.tree import export_graphviz\n",
    "import pydotplus\n",
    "from io import StringIO\n",
    "from IPython.display import Image\n"
   ]
  },
  {
   "cell_type": "code",
   "execution_count": 5,
   "id": "96cf20c5",
   "metadata": {},
   "outputs": [],
   "source": [
    "# Data Loading"
   ]
  },
  {
   "cell_type": "code",
   "execution_count": 6,
   "id": "f8801513",
   "metadata": {},
   "outputs": [
    {
     "data": {
      "text/html": [
       "<div>\n",
       "<style scoped>\n",
       "    .dataframe tbody tr th:only-of-type {\n",
       "        vertical-align: middle;\n",
       "    }\n",
       "\n",
       "    .dataframe tbody tr th {\n",
       "        vertical-align: top;\n",
       "    }\n",
       "\n",
       "    .dataframe thead th {\n",
       "        text-align: right;\n",
       "    }\n",
       "</style>\n",
       "<table border=\"1\" class=\"dataframe\">\n",
       "  <thead>\n",
       "    <tr style=\"text-align: right;\">\n",
       "      <th></th>\n",
       "      <th>Date Key</th>\n",
       "      <th>Store Key</th>\n",
       "      <th>Store Name</th>\n",
       "      <th>Store Type</th>\n",
       "      <th>Product Key</th>\n",
       "      <th>Product Name</th>\n",
       "      <th>Product Department</th>\n",
       "      <th>Transaction #</th>\n",
       "      <th>Dollar Sales</th>\n",
       "      <th>Units Sold</th>\n",
       "      <th>Customer ID</th>\n",
       "      <th>Age</th>\n",
       "      <th>Income</th>\n",
       "      <th>Veg or Non-Veg</th>\n",
       "      <th>Offer</th>\n",
       "      <th>Purchased</th>\n",
       "    </tr>\n",
       "  </thead>\n",
       "  <tbody>\n",
       "    <tr>\n",
       "      <th>0</th>\n",
       "      <td>2022-02-01</td>\n",
       "      <td>2</td>\n",
       "      <td>Costco</td>\n",
       "      <td>Retail</td>\n",
       "      <td>P125</td>\n",
       "      <td>Beer</td>\n",
       "      <td>Alcohol</td>\n",
       "      <td>1389</td>\n",
       "      <td>25.54</td>\n",
       "      <td>2</td>\n",
       "      <td>CID404</td>\n",
       "      <td>&lt; 30</td>\n",
       "      <td>&gt; = 20k</td>\n",
       "      <td>Veg</td>\n",
       "      <td>No</td>\n",
       "      <td>Yes</td>\n",
       "    </tr>\n",
       "    <tr>\n",
       "      <th>1</th>\n",
       "      <td>2022-02-01</td>\n",
       "      <td>2</td>\n",
       "      <td>Costco</td>\n",
       "      <td>Retail</td>\n",
       "      <td>P117</td>\n",
       "      <td>Blueberries</td>\n",
       "      <td>Produce</td>\n",
       "      <td>1972</td>\n",
       "      <td>32.43</td>\n",
       "      <td>5</td>\n",
       "      <td>CID404</td>\n",
       "      <td>&lt; 30</td>\n",
       "      <td>&gt; = 20k</td>\n",
       "      <td>Veg</td>\n",
       "      <td>No</td>\n",
       "      <td>Yes</td>\n",
       "    </tr>\n",
       "    <tr>\n",
       "      <th>2</th>\n",
       "      <td>2022-02-01</td>\n",
       "      <td>2</td>\n",
       "      <td>Costco</td>\n",
       "      <td>Retail</td>\n",
       "      <td>P109</td>\n",
       "      <td>Bread</td>\n",
       "      <td>Bakery</td>\n",
       "      <td>4269</td>\n",
       "      <td>29.11</td>\n",
       "      <td>3</td>\n",
       "      <td>CID404</td>\n",
       "      <td>&lt; 30</td>\n",
       "      <td>&gt; = 20k</td>\n",
       "      <td>Veg</td>\n",
       "      <td>No</td>\n",
       "      <td>Yes</td>\n",
       "    </tr>\n",
       "    <tr>\n",
       "      <th>3</th>\n",
       "      <td>2022-02-01</td>\n",
       "      <td>2</td>\n",
       "      <td>Costco</td>\n",
       "      <td>Retail</td>\n",
       "      <td>P114</td>\n",
       "      <td>Carrots</td>\n",
       "      <td>Produce</td>\n",
       "      <td>2033</td>\n",
       "      <td>39.98</td>\n",
       "      <td>7</td>\n",
       "      <td>CID404</td>\n",
       "      <td>&lt; 30</td>\n",
       "      <td>&gt; = 20k</td>\n",
       "      <td>Veg</td>\n",
       "      <td>No</td>\n",
       "      <td>Yes</td>\n",
       "    </tr>\n",
       "    <tr>\n",
       "      <th>4</th>\n",
       "      <td>2022-02-01</td>\n",
       "      <td>2</td>\n",
       "      <td>Costco</td>\n",
       "      <td>Retail</td>\n",
       "      <td>P114</td>\n",
       "      <td>Carrots</td>\n",
       "      <td>Produce</td>\n",
       "      <td>4583</td>\n",
       "      <td>27.83</td>\n",
       "      <td>8</td>\n",
       "      <td>CID403</td>\n",
       "      <td>&lt; 30</td>\n",
       "      <td>&lt; 20k</td>\n",
       "      <td>Veg</td>\n",
       "      <td>No</td>\n",
       "      <td>Yes</td>\n",
       "    </tr>\n",
       "    <tr>\n",
       "      <th>...</th>\n",
       "      <td>...</td>\n",
       "      <td>...</td>\n",
       "      <td>...</td>\n",
       "      <td>...</td>\n",
       "      <td>...</td>\n",
       "      <td>...</td>\n",
       "      <td>...</td>\n",
       "      <td>...</td>\n",
       "      <td>...</td>\n",
       "      <td>...</td>\n",
       "      <td>...</td>\n",
       "      <td>...</td>\n",
       "      <td>...</td>\n",
       "      <td>...</td>\n",
       "      <td>...</td>\n",
       "      <td>...</td>\n",
       "    </tr>\n",
       "    <tr>\n",
       "      <th>550</th>\n",
       "      <td>2023-12-01</td>\n",
       "      <td>2</td>\n",
       "      <td>Costco</td>\n",
       "      <td>Wholesale</td>\n",
       "      <td>P130</td>\n",
       "      <td>Turkey</td>\n",
       "      <td>Meat</td>\n",
       "      <td>9963</td>\n",
       "      <td>4.54</td>\n",
       "      <td>10</td>\n",
       "      <td>CID424</td>\n",
       "      <td>&lt; 30</td>\n",
       "      <td>&gt; = 20k</td>\n",
       "      <td>Non-Veg</td>\n",
       "      <td>Yes</td>\n",
       "      <td>Yes</td>\n",
       "    </tr>\n",
       "    <tr>\n",
       "      <th>551</th>\n",
       "      <td>2023-12-01</td>\n",
       "      <td>1</td>\n",
       "      <td>Zehrs</td>\n",
       "      <td>Retail</td>\n",
       "      <td>P130</td>\n",
       "      <td>Turkey</td>\n",
       "      <td>Meat</td>\n",
       "      <td>8652</td>\n",
       "      <td>6.83</td>\n",
       "      <td>6</td>\n",
       "      <td>CID425</td>\n",
       "      <td>&gt; = 30</td>\n",
       "      <td>&lt; 20k</td>\n",
       "      <td>Non-Veg</td>\n",
       "      <td>Yes</td>\n",
       "      <td>Yes</td>\n",
       "    </tr>\n",
       "    <tr>\n",
       "      <th>552</th>\n",
       "      <td>2023-12-01</td>\n",
       "      <td>1</td>\n",
       "      <td>Zehrs</td>\n",
       "      <td>Retail</td>\n",
       "      <td>P142</td>\n",
       "      <td>Vinegar</td>\n",
       "      <td>Condiments</td>\n",
       "      <td>0</td>\n",
       "      <td>0.00</td>\n",
       "      <td>0</td>\n",
       "      <td>CID423</td>\n",
       "      <td>&lt; 30</td>\n",
       "      <td>&lt; 20k</td>\n",
       "      <td>Veg</td>\n",
       "      <td>Yes</td>\n",
       "      <td>No</td>\n",
       "    </tr>\n",
       "    <tr>\n",
       "      <th>553</th>\n",
       "      <td>2023-12-01</td>\n",
       "      <td>3</td>\n",
       "      <td>FreshCo</td>\n",
       "      <td>Retail</td>\n",
       "      <td>P126</td>\n",
       "      <td>Wine</td>\n",
       "      <td>Alcohol</td>\n",
       "      <td>8122</td>\n",
       "      <td>46.49</td>\n",
       "      <td>7</td>\n",
       "      <td>CID426</td>\n",
       "      <td>&gt; = 30</td>\n",
       "      <td>&gt; = 20k</td>\n",
       "      <td>Veg</td>\n",
       "      <td>Yes</td>\n",
       "      <td>Yes</td>\n",
       "    </tr>\n",
       "    <tr>\n",
       "      <th>554</th>\n",
       "      <td>2023-12-01</td>\n",
       "      <td>3</td>\n",
       "      <td>FreshCo</td>\n",
       "      <td>Retail</td>\n",
       "      <td>P126</td>\n",
       "      <td>Wine</td>\n",
       "      <td>Alcohol</td>\n",
       "      <td>8956</td>\n",
       "      <td>41.73</td>\n",
       "      <td>3</td>\n",
       "      <td>CID423</td>\n",
       "      <td>&lt; 30</td>\n",
       "      <td>&lt; 20k</td>\n",
       "      <td>Veg</td>\n",
       "      <td>Yes</td>\n",
       "      <td>Yes</td>\n",
       "    </tr>\n",
       "  </tbody>\n",
       "</table>\n",
       "<p>555 rows × 16 columns</p>\n",
       "</div>"
      ],
      "text/plain": [
       "      Date Key  Store Key Store Name Store Type Product Key Product Name  \\\n",
       "0   2022-02-01          2     Costco     Retail        P125         Beer   \n",
       "1   2022-02-01          2     Costco     Retail        P117  Blueberries   \n",
       "2   2022-02-01          2     Costco     Retail        P109        Bread   \n",
       "3   2022-02-01          2     Costco     Retail        P114      Carrots   \n",
       "4   2022-02-01          2     Costco     Retail        P114      Carrots   \n",
       "..         ...        ...        ...        ...         ...          ...   \n",
       "550 2023-12-01          2     Costco  Wholesale        P130       Turkey   \n",
       "551 2023-12-01          1      Zehrs     Retail        P130       Turkey   \n",
       "552 2023-12-01          1      Zehrs     Retail        P142      Vinegar   \n",
       "553 2023-12-01          3    FreshCo     Retail        P126         Wine   \n",
       "554 2023-12-01          3    FreshCo     Retail        P126         Wine   \n",
       "\n",
       "    Product Department  Transaction #  Dollar Sales  Units Sold Customer ID  \\\n",
       "0              Alcohol           1389         25.54           2      CID404   \n",
       "1              Produce           1972         32.43           5      CID404   \n",
       "2               Bakery           4269         29.11           3      CID404   \n",
       "3              Produce           2033         39.98           7      CID404   \n",
       "4              Produce           4583         27.83           8      CID403   \n",
       "..                 ...            ...           ...         ...         ...   \n",
       "550               Meat           9963          4.54          10      CID424   \n",
       "551               Meat           8652          6.83           6      CID425   \n",
       "552         Condiments              0          0.00           0      CID423   \n",
       "553            Alcohol           8122         46.49           7      CID426   \n",
       "554            Alcohol           8956         41.73           3      CID423   \n",
       "\n",
       "        Age   Income Veg or Non-Veg Offer Purchased  \n",
       "0      < 30  > = 20k            Veg    No       Yes  \n",
       "1      < 30  > = 20k            Veg    No       Yes  \n",
       "2      < 30  > = 20k            Veg    No       Yes  \n",
       "3      < 30  > = 20k            Veg    No       Yes  \n",
       "4      < 30    < 20k            Veg    No       Yes  \n",
       "..      ...      ...            ...   ...       ...  \n",
       "550    < 30  > = 20k        Non-Veg   Yes       Yes  \n",
       "551  > = 30    < 20k        Non-Veg   Yes       Yes  \n",
       "552    < 30    < 20k            Veg   Yes        No  \n",
       "553  > = 30  > = 20k            Veg   Yes       Yes  \n",
       "554    < 30    < 20k            Veg   Yes       Yes  \n",
       "\n",
       "[555 rows x 16 columns]"
      ]
     },
     "execution_count": 6,
     "metadata": {},
     "output_type": "execute_result"
    }
   ],
   "source": [
    "\n",
    "# Load the data\n",
    "data = pd.read_excel(\"E:/Data Analytics Projects/Grocery Bill Analysis/data/processed_data.xlsx\")\n",
    "data"
   ]
  },
  {
   "cell_type": "code",
   "execution_count": 7,
   "id": "0ddb14a1",
   "metadata": {},
   "outputs": [
    {
     "name": "stdout",
     "output_type": "stream",
     "text": [
      "(555, 16)\n",
      "    Date Key  Store Key Store Name Store Type Product Key Product Name  \\\n",
      "0 2022-02-01          2     Costco     Retail        P125         Beer   \n",
      "1 2022-02-01          2     Costco     Retail        P117  Blueberries   \n",
      "2 2022-02-01          2     Costco     Retail        P109        Bread   \n",
      "3 2022-02-01          2     Costco     Retail        P114      Carrots   \n",
      "4 2022-02-01          2     Costco     Retail        P114      Carrots   \n",
      "\n",
      "  Product Department  Transaction #  Dollar Sales  Units Sold Customer ID  \\\n",
      "0            Alcohol           1389         25.54           2      CID404   \n",
      "1            Produce           1972         32.43           5      CID404   \n",
      "2             Bakery           4269         29.11           3      CID404   \n",
      "3            Produce           2033         39.98           7      CID404   \n",
      "4            Produce           4583         27.83           8      CID403   \n",
      "\n",
      "    Age   Income Veg or Non-Veg Offer Purchased  \n",
      "0  < 30  > = 20k            Veg    No       Yes  \n",
      "1  < 30  > = 20k            Veg    No       Yes  \n",
      "2  < 30  > = 20k            Veg    No       Yes  \n",
      "3  < 30  > = 20k            Veg    No       Yes  \n",
      "4  < 30    < 20k            Veg    No       Yes  \n",
      "(555, 44)\n",
      "   Dollar Sales  Units Sold  Store Name_FreshCo  Store Name_Zehrs  \\\n",
      "0         25.54           2               False             False   \n",
      "1         32.43           5               False             False   \n",
      "2         29.11           3               False             False   \n",
      "3         39.98           7               False             False   \n",
      "4         27.83           8               False             False   \n",
      "\n",
      "   Product Department_Bakery  Product Department_Beverages  \\\n",
      "0                      False                         False   \n",
      "1                      False                         False   \n",
      "2                       True                         False   \n",
      "3                      False                         False   \n",
      "4                      False                         False   \n",
      "\n",
      "   Product Department_Canned Goods  Product Department_Condiments  \\\n",
      "0                            False                          False   \n",
      "1                            False                          False   \n",
      "2                            False                          False   \n",
      "3                            False                          False   \n",
      "4                            False                          False   \n",
      "\n",
      "   Product Department_Dairy  Product Department_Grocery  ...  \\\n",
      "0                     False                       False  ...   \n",
      "1                     False                       False  ...   \n",
      "2                     False                       False  ...   \n",
      "3                     False                       False  ...   \n",
      "4                     False                       False  ...   \n",
      "\n",
      "   Customer ID_CID421  Customer ID_CID422  Customer ID_CID423  \\\n",
      "0               False               False               False   \n",
      "1               False               False               False   \n",
      "2               False               False               False   \n",
      "3               False               False               False   \n",
      "4               False               False               False   \n",
      "\n",
      "   Customer ID_CID424  Customer ID_CID425  Customer ID_CID426  Age_> = 30  \\\n",
      "0               False               False               False       False   \n",
      "1               False               False               False       False   \n",
      "2               False               False               False       False   \n",
      "3               False               False               False       False   \n",
      "4               False               False               False       False   \n",
      "\n",
      "   Veg or Non-Veg_Veg  Offer_Yes  Purchased_Yes  \n",
      "0                True      False           True  \n",
      "1                True      False           True  \n",
      "2                True      False           True  \n",
      "3                True      False           True  \n",
      "4                True      False           True  \n",
      "\n",
      "[5 rows x 44 columns]\n"
     ]
    }
   ],
   "source": [
    "import pandas as pd\n",
    "from sklearn.model_selection import train_test_split\n",
    "from sklearn.tree import DecisionTreeClassifier as dd\n",
    "from sklearn.metrics import accuracy_score, classification_report, confusion_matrix\n",
    "from sklearn.tree import export_graphviz\n",
    "import pydotplus\n",
    "from io import StringIO\n",
    "from IPython.display import Image\n",
    "import seaborn as sns\n",
    "import matplotlib.pyplot as plt\n",
    "from sklearn.metrics import confusion_matrix\n",
    "\n",
    "\n",
    "# Load the data\n",
    "data = pd.read_excel(\"E:/Data Analytics Projects/Grocery Bill Analysis/data/processed_data.xlsx\")\n",
    "print(data.shape)\n",
    "print(data.head())\n",
    "\n",
    "# Prepare the feature variables (X) and target variable (y)\n",
    "X = data.drop([\"Date Key\", \"Store Key\", \"Product Name\", \"Product Key\",\n",
    "               \"Transaction #\", \"Store Type\", \"Income\"], axis=1)\n",
    "y = data[\"Income\"]\n",
    "\n",
    "# Convert categorical features to dummy variables (if necessary)\n",
    "X_d = pd.get_dummies(X, drop_first=True)\n",
    "print(X_d.shape)\n",
    "print(X_d.head())\n",
    "\n",
    "# Update feature columns dynamically to match the transformed data\n",
    "feature_cols = X_d.columns.tolist()\n",
    "\n",
    "# Split the data into training and test sets\n",
    "X_train, X_test, y_train, y_test = train_test_split(X_d, y, test_size=0.20, random_state=101)\n",
    "\n",
    "# Initialize and train the Decision Tree model\n",
    "des = dd(max_depth=3)\n",
    "grc_d = des.fit(X_train, y_train)\n",
    "\n"
   ]
  },
  {
   "cell_type": "code",
   "execution_count": 8,
   "id": "452f2241",
   "metadata": {},
   "outputs": [
    {
     "name": "stdout",
     "output_type": "stream",
     "text": [
      "Accuracy of the model is :  65.76576576576578 \n",
      "\n",
      "              precision    recall  f1-score   support\n",
      "\n",
      "       < 20k       1.00      0.30      0.46        54\n",
      "     > = 20k       0.60      1.00      0.75        57\n",
      "\n",
      "    accuracy                           0.66       111\n",
      "   macro avg       0.80      0.65      0.60       111\n",
      "weighted avg       0.79      0.66      0.61       111\n",
      "\n"
     ]
    },
    {
     "data": {
      "image/png": "[encoded data removed]",
      "text/plain": [
       "<Figure size 600x500 with 1 Axes>"
      ]
     },
     "metadata": {},
     "output_type": "display_data"
    }
   ],
   "source": [
    "\n",
    "# Make predictions on the test set\n",
    "Z = grc_d.predict(X_test)\n",
    "\n",
    "# Print accuracy\n",
    "print('Accuracy of the model is : ', accuracy_score(y_test, Z) * 100, '\\n')\n",
    "\n",
    "# Print classification report\n",
    "print(classification_report(y_test, Z))\n",
    "\n",
    "# Generate confusion matrix\n",
    "cm = confusion_matrix(y_test, Z)\n",
    "\n",
    "# Create a heatmap of the confusion matrix\n",
    "plt.figure(figsize=(6, 5))\n",
    "sns.heatmap(cm, annot=True, fmt='d', cmap='Blues', xticklabels=['Predicted Negative', 'Predicted Positive'],\n",
    "            yticklabels=['Actual Negative', 'Actual Positive'], cbar=False, annot_kws={\"size\": 14})\n",
    "\n",
    "plt.title(\"Confusion Matrix\", fontsize=16)\n",
    "plt.xlabel(\"Predicted\", fontsize=12)\n",
    "plt.ylabel(\"Actual\", fontsize=12)\n",
    "plt.show()\n"
   ]
  },
  {
   "cell_type": "code",
   "execution_count": 9,
   "id": "709afd76",
   "metadata": {},
   "outputs": [
    {
     "data": {
      "image/png": "[encoded data removed]",
      "text/plain": [
       "<IPython.core.display.Image object>"
      ]
     },
     "execution_count": 9,
     "metadata": {},
     "output_type": "execute_result"
    }
   ],
   "source": [
    "\n",
    "# Train the Decision Tree model on the entire dataset\n",
    "des = dd(max_depth=3)\n",
    "data_grocery = des.fit(X_d, y)\n",
    "\n",
    "# Export the decision tree to dot format\n",
    "dot_data = StringIO()\n",
    "export_graphviz(data_grocery, out_file=dot_data, filled=True, rounded=True,\n",
    "                special_characters=True, feature_names=feature_cols)\n",
    "\n",
    "# Create the graph from the dot data\n",
    "graph = pydotplus.graph_from_dot_data(dot_data.getvalue())\n",
    "\n",
    "# Display the decision tree\n",
    "Image(graph.create_png())\n"
   ]
  },
  {
   "cell_type": "code",
   "execution_count": 10,
   "id": "c698d7e7",
   "metadata": {},
   "outputs": [
    {
     "name": "stdout",
     "output_type": "stream",
     "text": [
      "Cross-validation scores: [0.71171171 0.54954955 0.64864865 0.54954955 0.54954955]\n",
      "Mean cross-validation score: 0.6018018018018019\n"
     ]
    }
   ],
   "source": [
    "from sklearn.model_selection import cross_val_score\n",
    "\n",
    "# Perform cross-validation to assess model performance\n",
    "cv_scores = cross_val_score(des, X_d, y, cv=5)\n",
    "print(f\"Cross-validation scores: {cv_scores}\")\n",
    "print(f\"Mean cross-validation score: {cv_scores.mean()}\")\n"
   ]
  },
  {
   "cell_type": "code",
   "execution_count": 11,
   "id": "0b25aa61",
   "metadata": {},
   "outputs": [],
   "source": [
    "# Tune Hyperparameters"
   ]
  },
  {
   "cell_type": "code",
   "execution_count": 12,
   "id": "0555d964",
   "metadata": {},
   "outputs": [],
   "source": [
    "des = dd(max_depth=5, min_samples_split=10, min_samples_leaf=5)\n"
   ]
  },
  {
   "cell_type": "code",
   "execution_count": 13,
   "id": "4c8c487e",
   "metadata": {},
   "outputs": [],
   "source": [
    "# Cross-Validation with Stratification: "
   ]
  },
  {
   "cell_type": "code",
   "execution_count": 14,
   "id": "a7e851ac",
   "metadata": {},
   "outputs": [
    {
     "name": "stdout",
     "output_type": "stream",
     "text": [
      "Cross-validation scores: [0.71171171 0.54954955 0.64864865 0.61261261 0.54954955]\n",
      "Mean cross-validation score: 0.6144144144144145\n"
     ]
    }
   ],
   "source": [
    "from sklearn.model_selection import cross_val_score\n",
    "\n",
    "cross_val_scores = cross_val_score(des, X_d, y, cv=5)\n",
    "print(\"Cross-validation scores:\", cross_val_scores)\n",
    "print(\"Mean cross-validation score:\", cross_val_scores.mean())\n"
   ]
  },
  {
   "cell_type": "code",
   "execution_count": 16,
   "id": "2386542f",
   "metadata": {},
   "outputs": [],
   "source": [
    "# Hyperparameter Tuning"
   ]
  },
  {
   "cell_type": "code",
   "execution_count": 17,
   "id": "843d37d8",
   "metadata": {},
   "outputs": [
    {
     "name": "stdout",
     "output_type": "stream",
     "text": [
      "Best parameters: {'criterion': 'gini', 'max_depth': 10, 'min_samples_leaf': 1, 'min_samples_split': 2}\n",
      "Best score: 0.9684371807967314\n"
     ]
    }
   ],
   "source": [
    "from sklearn.model_selection import GridSearchCV\n",
    "\n",
    "param_grid = {\n",
    "    'max_depth': [3, 5, 7, 10],\n",
    "    'min_samples_split': [2, 10, 20],\n",
    "    'min_samples_leaf': [1, 2, 5],\n",
    "    'criterion': ['gini', 'entropy']\n",
    "}\n",
    "\n",
    "grid_search = GridSearchCV(estimator=dd(), param_grid=param_grid, cv=5)\n",
    "grid_search.fit(X_train, y_train)\n",
    "print(\"Best parameters:\", grid_search.best_params_)\n",
    "print(\"Best score:\", grid_search.best_score_)\n"
   ]
  },
  {
   "cell_type": "code",
   "execution_count": null,
   "id": "c3c61aeb",
   "metadata": {},
   "outputs": [],
   "source": [
    "# Pruning the Tree:"
   ]
  },
  {
   "cell_type": "code",
   "execution_count": 18,
   "id": "b27d835b",
   "metadata": {},
   "outputs": [],
   "source": [
    "path = des.cost_complexity_pruning_path(X_train, y_train)\n",
    "ccp_alphas = path.ccp_alphas\n",
    "trees = []\n",
    "for ccp_alpha in ccp_alphas:\n",
    "    tree = dd(random_state=0, ccp_alpha=ccp_alpha)\n",
    "    tree.fit(X_train, y_train)\n",
    "    trees.append(tree)\n",
    "\n",
    "# Evaluate the performance of each tree\n",
    "tree_accuracies = [tree.score(X_test, y_test) for tree in trees]\n",
    "best_tree = trees[tree_accuracies.index(max(tree_accuracies))]\n"
   ]
  },
  {
   "cell_type": "code",
   "execution_count": null,
   "id": "1d0826fe",
   "metadata": {},
   "outputs": [],
   "source": [
    "# Feature Engineering:"
   ]
  },
  {
   "cell_type": "code",
   "execution_count": null,
   "id": "dc3077de",
   "metadata": {},
   "outputs": [],
   "source": [
    "from sklearn.feature_selection import RFE\n",
    "\n",
    "selector = RFE(des, n_features_to_select=5)\n",
    "selector.fit(X_train, y_train)\n",
    "selected_features = X_train.columns[selector.support_]\n",
    "print(\"Selected features:\", selected_features)\n"
   ]
  },
  {
   "cell_type": "code",
   "execution_count": null,
   "id": "97a691ba",
   "metadata": {},
   "outputs": [],
   "source": [
    "# Use an Ensemble Method"
   ]
  },
  {
   "cell_type": "code",
   "execution_count": null,
   "id": "b6e0850a",
   "metadata": {},
   "outputs": [],
   "source": [
    "# Random Forest:"
   ]
  },
  {
   "cell_type": "code",
   "execution_count": null,
   "id": "0b632adb",
   "metadata": {},
   "outputs": [],
   "source": [
    "from sklearn.ensemble import RandomForestClassifier\n",
    "\n",
    "rf = RandomForestClassifier(n_estimators=100, max_depth=5, random_state=101)\n",
    "rf.fit(X_train, y_train)\n",
    "print(\"Random Forest Accuracy:\", accuracy_score(y_test, rf.predict(X_test)) * 100)\n"
   ]
  }
 ],
 "metadata": {
  "kernelspec": {
   "display_name": "Python 3 (ipykernel)",
   "language": "python",
   "name": "python3"
  },
  "language_info": {
   "codemirror_mode": {
    "name": "ipython",
    "version": 3
   },
   "file_extension": ".py",
   "mimetype": "text/x-python",
   "name": "python",
   "nbconvert_exporter": "python",
   "pygments_lexer": "ipython3",
   "version": "3.11.5"
  }
 },
 "nbformat": 4,
 "nbformat_minor": 5
}
